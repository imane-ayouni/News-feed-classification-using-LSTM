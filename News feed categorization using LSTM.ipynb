{
 "cells": [
  {
   "cell_type": "markdown",
   "id": "8c012e88",
   "metadata": {},
   "source": [
    "# News feed classification using LSTM"
   ]
  },
  {
   "cell_type": "markdown",
   "id": "59b131f8",
   "metadata": {},
   "source": [
    "## Topic\n",
    "\n",
    "In this notebook I will experiment with sequential data classification using LSTM. My dataset is comprised of news feed with their categories, the news feeds being a long paragraph of news related to a special topic and topics being either sport, entertaimnent, tech, business or politics. I will need to do some pre-processing of the data including TF-IDF vectorization which maps each paragraph to a long vector comprised of the scores of the words within it. Then I will build an LSTM network that can classify the news to their correspondent category. So let's get started ! "
   ]
  },
  {
   "cell_type": "markdown",
   "id": "7f514df7",
   "metadata": {},
   "source": [
    "## Obejctives\n",
    "\n",
    "- Vectorize the news feeds\n",
    "- Build an LSTM to categorize them"
   ]
  },
  {
   "cell_type": "markdown",
   "id": "316237a8",
   "metadata": {},
   "source": [
    "## Summary\n",
    "\n",
    "- Importing libraries\n",
    "- The dataset\n",
    "- Label encoding the target\n",
    "- Text pre-processing\n",
    "- Train/Validation/Test splits\n",
    "- Creating the dataloaders\n",
    "- Building the network\n",
    "- Training the network \n",
    "- Testing the network\n",
    "- Inference\n",
    "- Conclusion"
   ]
  },
  {
   "cell_type": "markdown",
   "id": "9ec283d5",
   "metadata": {},
   "source": [
    "### Importing libraries"
   ]
  },
  {
   "cell_type": "code",
   "execution_count": 367,
   "id": "2b1ee7ba",
   "metadata": {},
   "outputs": [],
   "source": [
    "import numpy as np\n",
    "import pandas as pd\n",
    "from string import punctuation\n",
    "import torch\n",
    "from torch.utils.data import TensorDataset, DataLoader\n",
    "import torch.nn as nn\n",
    "import matplotlib.pyplot as plt\n",
    "import nltk\n",
    "from nltk.corpus import stopwords\n",
    "from nltk.tokenize import word_tokenize\n",
    "from torch.utils.data import Dataset\n",
    "from sklearn.feature_extraction.text import TfidfVectorizer\n",
    "from sklearn.model_selection import train_test_split\n",
    "from sklearn import preprocessing \n",
    "import string\n",
    "from nltk import word_tokenize\n",
    "from torch.utils.data import TensorDataset\n",
    "from scipy.sparse import coo_matrix\n",
    "import torch.nn.functional as F"
   ]
  },
  {
   "cell_type": "markdown",
   "id": "cf84db61",
   "metadata": {},
   "source": [
    "### The dataset"
   ]
  },
  {
   "cell_type": "code",
   "execution_count": 247,
   "id": "9d048b92",
   "metadata": {},
   "outputs": [
    {
     "data": {
      "text/html": [
       "<div>\n",
       "<style scoped>\n",
       "    .dataframe tbody tr th:only-of-type {\n",
       "        vertical-align: middle;\n",
       "    }\n",
       "\n",
       "    .dataframe tbody tr th {\n",
       "        vertical-align: top;\n",
       "    }\n",
       "\n",
       "    .dataframe thead th {\n",
       "        text-align: right;\n",
       "    }\n",
       "</style>\n",
       "<table border=\"1\" class=\"dataframe\">\n",
       "  <thead>\n",
       "    <tr style=\"text-align: right;\">\n",
       "      <th></th>\n",
       "      <th>category</th>\n",
       "      <th>text</th>\n",
       "    </tr>\n",
       "  </thead>\n",
       "  <tbody>\n",
       "    <tr>\n",
       "      <th>0</th>\n",
       "      <td>tech</td>\n",
       "      <td>tv future in the hands of viewers with home th...</td>\n",
       "    </tr>\n",
       "    <tr>\n",
       "      <th>1</th>\n",
       "      <td>business</td>\n",
       "      <td>worldcom boss  left books alone  former worldc...</td>\n",
       "    </tr>\n",
       "    <tr>\n",
       "      <th>2</th>\n",
       "      <td>sport</td>\n",
       "      <td>tigers wary of farrell  gamble  leicester say ...</td>\n",
       "    </tr>\n",
       "    <tr>\n",
       "      <th>3</th>\n",
       "      <td>sport</td>\n",
       "      <td>yeading face newcastle in fa cup premiership s...</td>\n",
       "    </tr>\n",
       "    <tr>\n",
       "      <th>4</th>\n",
       "      <td>entertainment</td>\n",
       "      <td>ocean s twelve raids box office ocean s twelve...</td>\n",
       "    </tr>\n",
       "  </tbody>\n",
       "</table>\n",
       "</div>"
      ],
      "text/plain": [
       "        category                                               text\n",
       "0           tech  tv future in the hands of viewers with home th...\n",
       "1       business  worldcom boss  left books alone  former worldc...\n",
       "2          sport  tigers wary of farrell  gamble  leicester say ...\n",
       "3          sport  yeading face newcastle in fa cup premiership s...\n",
       "4  entertainment  ocean s twelve raids box office ocean s twelve..."
      ]
     },
     "execution_count": 247,
     "metadata": {},
     "output_type": "execute_result"
    }
   ],
   "source": [
    "data = pd.read_csv(r'C:\\Users\\imane\\Downloads\\archive (28)\\bbc-text.csv', sep =\",\")\n",
    "data.head()"
   ]
  },
  {
   "cell_type": "code",
   "execution_count": 248,
   "id": "938bdb48",
   "metadata": {},
   "outputs": [
    {
     "name": "stdout",
     "output_type": "stream",
     "text": [
      "<class 'pandas.core.frame.DataFrame'>\n",
      "RangeIndex: 2225 entries, 0 to 2224\n",
      "Data columns (total 2 columns):\n",
      " #   Column    Non-Null Count  Dtype \n",
      "---  ------    --------------  ----- \n",
      " 0   category  2225 non-null   object\n",
      " 1   text      2225 non-null   object\n",
      "dtypes: object(2)\n",
      "memory usage: 34.9+ KB\n"
     ]
    }
   ],
   "source": [
    "data.info()"
   ]
  },
  {
   "cell_type": "code",
   "execution_count": 249,
   "id": "03532cf4",
   "metadata": {},
   "outputs": [
    {
     "data": {
      "text/plain": [
       "<Axes: >"
      ]
     },
     "execution_count": 249,
     "metadata": {},
     "output_type": "execute_result"
    },
    {
     "data": {
      "image/png": "[encoded data removed]",
      "text/plain": [
       "<Figure size 640x480 with 1 Axes>"
      ]
     },
     "metadata": {},
     "output_type": "display_data"
    }
   ],
   "source": [
    "data['category'].value_counts().plot(kind='bar')"
   ]
  },
  {
   "cell_type": "markdown",
   "id": "852967f8",
   "metadata": {},
   "source": [
    "So the dataset is csv file that contains news feeds as well as their category, the plot above shows how many of each category there are in the dataset, although there are little difference in the amount of each kind of news I think that the model will work just fine and won't overfit in the favor of  a certain category."
   ]
  },
  {
   "cell_type": "markdown",
   "id": "08fb6da0",
   "metadata": {},
   "source": [
    "### Label Encoding the target"
   ]
  },
  {
   "cell_type": "code",
   "execution_count": 250,
   "id": "0167ca7e",
   "metadata": {},
   "outputs": [],
   "source": [
    "label_encoder = preprocessing.LabelEncoder() \n",
    "data['category']= label_encoder.fit_transform(data['category']) "
   ]
  },
  {
   "cell_type": "code",
   "execution_count": 251,
   "id": "cb9d03e0",
   "metadata": {},
   "outputs": [
    {
     "data": {
      "text/plain": [
       "<Axes: >"
      ]
     },
     "execution_count": 251,
     "metadata": {},
     "output_type": "execute_result"
    },
    {
     "data": {
      "image/png": "[encoded data removed]",
      "text/plain": [
       "<Figure size 640x480 with 1 Axes>"
      ]
     },
     "metadata": {},
     "output_type": "display_data"
    }
   ],
   "source": [
    "data['category'].value_counts().plot(kind='bar')"
   ]
  },
  {
   "cell_type": "code",
   "execution_count": 252,
   "id": "767b8679",
   "metadata": {},
   "outputs": [],
   "source": [
    "target = data[\"category\"]\n",
    "data = data.drop(columns=\"category\", axis =1)"
   ]
  },
  {
   "cell_type": "code",
   "execution_count": 253,
   "id": "ab3ead88",
   "metadata": {},
   "outputs": [
    {
     "data": {
      "text/plain": [
       "0    4\n",
       "1    0\n",
       "2    3\n",
       "3    3\n",
       "4    1\n",
       "Name: category, dtype: int32"
      ]
     },
     "execution_count": 253,
     "metadata": {},
     "output_type": "execute_result"
    }
   ],
   "source": [
    "target.head()"
   ]
  },
  {
   "cell_type": "markdown",
   "id": "4070a7cc",
   "metadata": {},
   "source": [
    "### Text pre-processing"
   ]
  },
  {
   "cell_type": "code",
   "execution_count": 254,
   "id": "8ddf4b00",
   "metadata": {},
   "outputs": [],
   "source": [
    "data[\"text\"] = data[\"text\"].str.lower()"
   ]
  },
  {
   "cell_type": "markdown",
   "id": "b313e4a7",
   "metadata": {},
   "source": [
    "The first thing I did was to convert the text to lower caracters."
   ]
  },
  {
   "cell_type": "code",
   "execution_count": 255,
   "id": "d369b4eb",
   "metadata": {},
   "outputs": [],
   "source": [
    "def remove_punct(text):\n",
    "    text = text.translate(str.maketrans(\" \",\" \", string.punctuation ))\n",
    "    return text"
   ]
  },
  {
   "cell_type": "code",
   "execution_count": 256,
   "id": "09cd6be3",
   "metadata": {},
   "outputs": [],
   "source": [
    "data[\"text\"] = data[\"text\"].apply(remove_punct)"
   ]
  },
  {
   "cell_type": "markdown",
   "id": "9799c083",
   "metadata": {},
   "source": [
    "Then I removed the punctuation."
   ]
  },
  {
   "cell_type": "code",
   "execution_count": 257,
   "id": "9aecd639",
   "metadata": {},
   "outputs": [
    {
     "data": {
      "text/html": [
       "<div>\n",
       "<style scoped>\n",
       "    .dataframe tbody tr th:only-of-type {\n",
       "        vertical-align: middle;\n",
       "    }\n",
       "\n",
       "    .dataframe tbody tr th {\n",
       "        vertical-align: top;\n",
       "    }\n",
       "\n",
       "    .dataframe thead th {\n",
       "        text-align: right;\n",
       "    }\n",
       "</style>\n",
       "<table border=\"1\" class=\"dataframe\">\n",
       "  <thead>\n",
       "    <tr style=\"text-align: right;\">\n",
       "      <th></th>\n",
       "      <th>text</th>\n",
       "    </tr>\n",
       "  </thead>\n",
       "  <tbody>\n",
       "    <tr>\n",
       "      <th>0</th>\n",
       "      <td>tv future in the hands of viewers with home th...</td>\n",
       "    </tr>\n",
       "    <tr>\n",
       "      <th>1</th>\n",
       "      <td>worldcom boss  left books alone  former worldc...</td>\n",
       "    </tr>\n",
       "    <tr>\n",
       "      <th>2</th>\n",
       "      <td>tigers wary of farrell  gamble  leicester say ...</td>\n",
       "    </tr>\n",
       "    <tr>\n",
       "      <th>3</th>\n",
       "      <td>yeading face newcastle in fa cup premiership s...</td>\n",
       "    </tr>\n",
       "    <tr>\n",
       "      <th>4</th>\n",
       "      <td>ocean s twelve raids box office ocean s twelve...</td>\n",
       "    </tr>\n",
       "  </tbody>\n",
       "</table>\n",
       "</div>"
      ],
      "text/plain": [
       "                                                text\n",
       "0  tv future in the hands of viewers with home th...\n",
       "1  worldcom boss  left books alone  former worldc...\n",
       "2  tigers wary of farrell  gamble  leicester say ...\n",
       "3  yeading face newcastle in fa cup premiership s...\n",
       "4  ocean s twelve raids box office ocean s twelve..."
      ]
     },
     "execution_count": 257,
     "metadata": {},
     "output_type": "execute_result"
    }
   ],
   "source": [
    "data.head()"
   ]
  },
  {
   "cell_type": "code",
   "execution_count": 261,
   "id": "e414d600",
   "metadata": {},
   "outputs": [],
   "source": [
    "vectorizer = TfidfVectorizer( analyzer='word',stop_words= 'english')"
   ]
  },
  {
   "cell_type": "code",
   "execution_count": 262,
   "id": "69100efb",
   "metadata": {},
   "outputs": [],
   "source": [
    "X = vectorizer.fit_transform(data['text'])"
   ]
  },
  {
   "cell_type": "code",
   "execution_count": 265,
   "id": "c8befecc",
   "metadata": {},
   "outputs": [
    {
     "name": "stdout",
     "output_type": "stream",
     "text": [
      "(2225, 32442)\n"
     ]
    }
   ],
   "source": [
    "print(X.shape)"
   ]
  },
  {
   "cell_type": "markdown",
   "id": "5996797e",
   "metadata": {},
   "source": [
    "Next I used TF-IDF vectorizer which maps each utterance of news feed to a vector containing scores for each word depending on the frequency of the presence of the said word in the document. The result has shape 2225 by 32442, the 2225 is the number of news feeds I got while the 32442 represents how long the resulting vectors are."
   ]
  },
  {
   "cell_type": "markdown",
   "id": "44315988",
   "metadata": {},
   "source": [
    "### Train/Validation/Test splits"
   ]
  },
  {
   "cell_type": "code",
   "execution_count": 266,
   "id": "a539a730",
   "metadata": {},
   "outputs": [],
   "source": [
    "X_train, X_test, y_train ,y_test = train_test_split(X, target, random_state = 42, test_size = 0.20)"
   ]
  },
  {
   "cell_type": "code",
   "execution_count": 267,
   "id": "c003b609",
   "metadata": {},
   "outputs": [],
   "source": [
    "x_train, x_val, y_train, y_val = train_test_split(X_train, y_train, random_state = 42, test_size = 0.10)"
   ]
  },
  {
   "cell_type": "code",
   "execution_count": 270,
   "id": "448aaf1a",
   "metadata": {},
   "outputs": [
    {
     "name": "stdout",
     "output_type": "stream",
     "text": [
      "(1602, 32442) (1602,)\n",
      "(445, 32442) (445,)\n",
      "(178, 32442) (178,)\n"
     ]
    }
   ],
   "source": [
    "print(x_train.shape, y_train.shape)\n",
    "print(X_test.shape, y_test.shape)\n",
    "print(x_val.shape, y_val.shape)"
   ]
  },
  {
   "cell_type": "markdown",
   "id": "470e39da",
   "metadata": {},
   "source": [
    "I then split my dataset into training, validation and testing sets whose shapes wa can see above. I kept 20% of the training data for test and 10% of the remaining training data for validation."
   ]
  },
  {
   "cell_type": "code",
   "execution_count": 276,
   "id": "30694a36",
   "metadata": {},
   "outputs": [],
   "source": [
    "coo_t = coo_matrix(x_train, dtype= \"float32\")\n",
    "coo_v = coo_matrix(x_val, dtype= \"float32\")\n",
    "coo_test = coo_matrix(X_test, dtype= \"float32\")"
   ]
  },
  {
   "cell_type": "code",
   "execution_count": 277,
   "id": "6938ef33",
   "metadata": {},
   "outputs": [],
   "source": [
    "values = coo_t.data\n",
    "indices = np.vstack((coo_t.row, coo_t.col))\n",
    "\n",
    "i = torch.LongTensor(indices)\n",
    "v = torch.FloatTensor(values)\n",
    "shape = coo_t.shape\n",
    "\n",
    "train_x = torch.sparse.FloatTensor(i, v, torch.Size(shape)).to_dense()"
   ]
  },
  {
   "cell_type": "code",
   "execution_count": 278,
   "id": "992dd63d",
   "metadata": {},
   "outputs": [],
   "source": [
    "values = coo_v.data\n",
    "indices = np.vstack((coo_v.row, coo_v.col))\n",
    "\n",
    "i = torch.LongTensor(indices)\n",
    "v = torch.FloatTensor(values)\n",
    "shape = coo_v.shape\n",
    "\n",
    "val_x = torch.sparse.FloatTensor(i, v, torch.Size(shape)).to_dense()"
   ]
  },
  {
   "cell_type": "code",
   "execution_count": 279,
   "id": "21da0c6b",
   "metadata": {},
   "outputs": [],
   "source": [
    "values = coo_test.data\n",
    "indices = np.vstack((coo_test.row, coo_test.col))\n",
    "\n",
    "i = torch.LongTensor(indices)\n",
    "v = torch.FloatTensor(values)\n",
    "shape = coo_test.shape\n",
    "\n",
    "test_x = torch.sparse.FloatTensor(i, v, torch.Size(shape)).to_dense()"
   ]
  },
  {
   "cell_type": "markdown",
   "id": "d5e6de5c",
   "metadata": {},
   "source": [
    "I then used the coo matrix because my resultant features are very big sparse matrices."
   ]
  },
  {
   "cell_type": "code",
   "execution_count": 282,
   "id": "7273011b",
   "metadata": {},
   "outputs": [],
   "source": [
    "y_train = y_train.to_numpy()\n",
    "y_val = y_val.to_numpy()\n",
    "y_test = y_test.to_numpy()"
   ]
  },
  {
   "cell_type": "markdown",
   "id": "223807af",
   "metadata": {},
   "source": [
    "### Creating the data loaders"
   ]
  },
  {
   "cell_type": "code",
   "execution_count": 283,
   "id": "6570c900",
   "metadata": {},
   "outputs": [],
   "source": [
    "train_data = TensorDataset(train_x, torch.from_numpy(y_train))\n",
    "val_data = TensorDataset(val_x, torch.from_numpy(y_val))\n",
    "test_data = TensorDataset(test_x, torch.from_numpy(y_test))\n",
    "\n",
    "batch_size = 30\n",
    "train_loader = DataLoader(train_data, shuffle=True, batch_size=batch_size, drop_last=True)\n",
    "val_loader = DataLoader(val_data, shuffle=True, batch_size=batch_size, drop_last=True)\n",
    "test_loader = DataLoader(test_data, shuffle=True, batch_size=batch_size, drop_last=True)"
   ]
  },
  {
   "cell_type": "markdown",
   "id": "4b8b5639",
   "metadata": {},
   "source": [
    "Then with the help of Tensor Dataset of pytorch I created datasets for training , validation and testing and then created the data loaders with a batch size of 30."
   ]
  },
  {
   "cell_type": "code",
   "execution_count": 296,
   "id": "cbe1eb3b",
   "metadata": {},
   "outputs": [
    {
     "name": "stdout",
     "output_type": "stream",
     "text": [
      "torch.Size([30, 32442])\n",
      "torch.Size([30])\n"
     ]
    }
   ],
   "source": [
    "x, y = next(iter(train_loader))\n",
    "print(x.shape)\n",
    "print(y.shape)"
   ]
  },
  {
   "cell_type": "markdown",
   "id": "f13572c4",
   "metadata": {},
   "source": [
    "Next I checked the shapes of my input and label and they seem all good."
   ]
  },
  {
   "cell_type": "markdown",
   "id": "accdaf0c",
   "metadata": {},
   "source": [
    "### Building the network"
   ]
  },
  {
   "cell_type": "code",
   "execution_count": 340,
   "id": "90067049",
   "metadata": {},
   "outputs": [],
   "source": [
    "class LSTM(nn.Module):\n",
    "    def __init__(self, vocab_size, output_size,  hidden_dim, n_layers, drop_prob=0.3):\n",
    "        super(LSTM, self).__init__()\n",
    "        self.output_size = output_size\n",
    "        self.n_layers = n_layers\n",
    "        self.hidden_dim = hidden_dim\n",
    "        \n",
    "        \n",
    "        self.lstm = nn.LSTM(vocab_size, hidden_dim, n_layers, batch_first=True, dropout = drop_prob)\n",
    "        self.dropout = nn.Dropout(drop_prob)\n",
    "        self.fc = nn.Linear(hidden_dim, output_size)\n",
    "        \n",
    "        \n",
    "    def forward(self, x, hidden):\n",
    "        #batch_size = x.size(0)\n",
    "        output, hidden = self.lstm(x, hidden)\n",
    "        output = output.reshape(-1, self.hidden_dim)\n",
    "        out = self.dropout(output)\n",
    "        out = self.fc(out)\n",
    "\n",
    "        return out, hidden\n",
    "    \n",
    "    def init_hidden(self):\n",
    "        weight = next(self.parameters()).data\n",
    "        hidden = (weight.new(self.n_layers, self.hidden_dim).zero_(),\n",
    "                  weight.new(self.n_layers, self.hidden_dim).zero_())\n",
    "        return hidden\n",
    "        "
   ]
  },
  {
   "cell_type": "code",
   "execution_count": 341,
   "id": "0ff08d70",
   "metadata": {},
   "outputs": [
    {
     "name": "stdout",
     "output_type": "stream",
     "text": [
      "LSTM(\n",
      "  (lstm): LSTM(32442, 356, num_layers=3, batch_first=True, dropout=0.3)\n",
      "  (dropout): Dropout(p=0.3, inplace=False)\n",
      "  (fc): Linear(in_features=356, out_features=5, bias=True)\n",
      ")\n"
     ]
    }
   ],
   "source": [
    "vocab_size = X.shape[1]\n",
    "output_size = 5\n",
    "hidden_dim = 356\n",
    "n_layers = 3\n",
    "net = LSTM(vocab_size, output_size, hidden_dim, n_layers )\n",
    "print(net)"
   ]
  },
  {
   "cell_type": "markdown",
   "id": "d6c6eeaf",
   "metadata": {},
   "source": [
    "So I built an LSTM from scratch, it contains 3 layers, 356 hidden dimensions, and its connected to the fully connected layers with 5 as output size. I used dropout with probability of 0.3 and initialized the hidden and cell states. Then I printed the resultant network."
   ]
  },
  {
   "cell_type": "markdown",
   "id": "ea973427",
   "metadata": {},
   "source": [
    "### Training the network"
   ]
  },
  {
   "cell_type": "code",
   "execution_count": 342,
   "id": "4c53090a",
   "metadata": {},
   "outputs": [],
   "source": [
    "lr = 0.001\n",
    "criterion = nn.CrossEntropyLoss()\n",
    "optimizer = torch.optim.Adam(net.parameters(), lr=lr)"
   ]
  },
  {
   "cell_type": "markdown",
   "id": "8f406cb7",
   "metadata": {},
   "source": [
    "Here I used cross entropy loss because I'm dealing with multiple categories, I sat the learning rate to 0.001 and the optimizer to Adam."
   ]
  },
  {
   "cell_type": "code",
   "execution_count": 343,
   "id": "1d2b83dc",
   "metadata": {},
   "outputs": [
    {
     "name": "stdout",
     "output_type": "stream",
     "text": [
      "Epoch  2 train loss  1.3833259276623995 validation loss  1.3285459280014038\n",
      "validation loss decreased inf ----> 1.3285459280014038\n",
      "Saving the model\n",
      "Epoch  4 train loss  0.11261273674526305 validation loss  0.18969172090291977\n",
      "validation loss decreased 1.3285459280014038 ----> 0.18969172090291977\n",
      "Saving the model\n",
      "Epoch  6 train loss  0.013992395067482063 validation loss  0.24240596890449523\n",
      "Epoch  8 train loss  0.003127760438353948 validation loss  0.18275687396526336\n",
      "validation loss decreased 0.18969172090291977 ----> 0.18275687396526336\n",
      "Saving the model\n",
      "Epoch  10 train loss  0.0031880053805784796 validation loss  0.2078369714319706\n",
      "Epoch  12 train loss  0.0005662620972560824 validation loss  0.11529235653579235\n",
      "validation loss decreased 0.18275687396526336 ----> 0.11529235653579235\n",
      "Saving the model\n",
      "Epoch  14 train loss  0.0036487110675189572 validation loss  0.244148438423872\n",
      "Epoch  16 train loss  0.0001545905845046465 validation loss  0.17758384821936488\n",
      "Epoch  17 train loss  0.000501938581846672 validation loss  0.22052230844274162\n",
      "Epoch  19 train loss  0.000411700210226524 validation loss  0.2319586519151926\n"
     ]
    }
   ],
   "source": [
    "epochs = 20\n",
    "print_every= 100\n",
    "count = 0\n",
    "clip = 5\n",
    "valid_loss_min = np.Inf\n",
    "train_accuracy, val_accuracy = [],[]\n",
    "\n",
    "net.train()\n",
    "for epoch in range(epochs):\n",
    "    train_loss = 0.0\n",
    "    valid_loss = 0.0\n",
    "    t_acc = 0.0\n",
    "    h = net.init_hidden()\n",
    "    for x, y in train_loader:\n",
    "        count +=1\n",
    "        h = tuple([each.data for each in h])\n",
    "        optimizer.zero_grad()\n",
    "        out, h = net(x, h)\n",
    "        loss = criterion(out.squeeze(), y.long())\n",
    "        train_loss += loss.item()\n",
    "        loss.backward()\n",
    "        preds = F.log_softmax(out, dim=1)\n",
    "        ps = torch.exp(preds)\n",
    "        top_k, top_class = ps.topk(1, dim=1)\n",
    "        equals = top_class == y.view(*top_class.shape)\n",
    "        t_acc += equals.sum().item()\n",
    "        nn.utils.clip_grad_norm_(net.parameters(), clip)\n",
    "        optimizer.step()\n",
    "        \n",
    "        if count % print_every == 0:\n",
    "            with torch.no_grad():\n",
    "                net.eval()\n",
    "                v_acc = 0.0\n",
    "                val_h = net.init_hidden()\n",
    "                for x, y in val_loader:\n",
    "                    val_h = tuple([each.data for each in h])\n",
    "                    out, h = net(x, h)\n",
    "                    v_loss = criterion(out.squeeze(), y.long())\n",
    "                    valid_loss += v_loss.item()\n",
    "                    preds = F.log_softmax(out, dim=1)\n",
    "                    ps = torch.exp(preds)\n",
    "                    top_k, top_class = ps.topk(1, dim=1)\n",
    "                    equals = top_class == y.view(*top_class.shape)\n",
    "                    v_acc += equals.sum().item()\n",
    "                net.train()\n",
    "            train_loss = train_loss/len(train_loader)\n",
    "            valid_loss = valid_loss/len(val_loader)\n",
    "            train_accuracy.append(t_acc/len(train_loader))\n",
    "            val_accuracy.append(v_acc/len(val_loader))\n",
    "            \n",
    "            print(\"Epoch \", epoch+1, \"train loss \", train_loss, \"validation loss \", valid_loss)\n",
    "        \n",
    "            if valid_loss <= valid_loss_min:\n",
    "                print(\"validation loss decreased\", valid_loss_min, \"---->\", valid_loss)\n",
    "                print(\"Saving the model\")\n",
    "                torch.save(net.state_dict(), \"news_classifier.pt\")\n",
    "                valid_loss_min = valid_loss\n"
   ]
  },
  {
   "cell_type": "markdown",
   "id": "8c98639b",
   "metadata": {},
   "source": [
    "The training happened over 20 epochs, I got my best model around epoch 12 and saved it to my files. During the training I initialized the hidden state, passed the input and hidden state through the network then I used log softmax to get the actual probabilities that the feed corresponds to each class. I kept track of both the training and validation losses and calculated their accuracies."
   ]
  },
  {
   "cell_type": "code",
   "execution_count": 344,
   "id": "a630e1ad",
   "metadata": {},
   "outputs": [
    {
     "data": {
      "text/plain": [
       "<matplotlib.legend.Legend at 0x235e98ecc70>"
      ]
     },
     "execution_count": 344,
     "metadata": {},
     "output_type": "execute_result"
    },
    {
     "data": {
      "image/png": "[encoded data removed]",
      "text/plain": [
       "<Figure size 640x480 with 1 Axes>"
      ]
     },
     "metadata": {},
     "output_type": "display_data"
    }
   ],
   "source": [
    "plt.plot(train_accuracy, label=\"Training Accuracy\")\n",
    "plt.plot(val_accuracy, label=\"Validation Accuracy\")\n",
    "plt.legend()"
   ]
  },
  {
   "cell_type": "markdown",
   "id": "fde917e4",
   "metadata": {},
   "source": [
    "The plot above shows the accuracy of training vs validation, I can see that the training accuracy falls and then spikes to reach the testing accuracy, while the testing accuracy increases steadily and then stays on pretty much the same level."
   ]
  },
  {
   "cell_type": "markdown",
   "id": "b1b4172c",
   "metadata": {},
   "source": [
    "### Testing the network"
   ]
  },
  {
   "cell_type": "code",
   "execution_count": 345,
   "id": "965784b9",
   "metadata": {},
   "outputs": [],
   "source": [
    "classes = [\"business\",  'entertainment', \"politics\", \"sport\", 'tech']"
   ]
  },
  {
   "cell_type": "code",
   "execution_count": 368,
   "id": "86ab2ade",
   "metadata": {},
   "outputs": [
    {
     "name": "stdout",
     "output_type": "stream",
     "text": [
      "Test Loss: 3.381683\n",
      "\n",
      "Test Accuracy of business: 85% (80/94)\n",
      "Test Accuracy of entertainment: 100% (77/77)\n",
      "Test Accuracy of politics: 100% (80/80)\n",
      "Test Accuracy of sport: 100% (93/93)\n",
      "Test Accuracy of  tech: 90% (69/76)\n",
      "\n",
      "Test Accuracy (Overall): 95% (399/420)\n",
      "Test loss: 0.008\n"
     ]
    }
   ],
   "source": [
    "test_loss = 0.0\n",
    "class_correct = list(0. for i in range(len(classes)))\n",
    "class_total = list(0. for i in range(len(classes)))\n",
    "h = net.init_hidden()\n",
    "net.eval()\n",
    "for inputs, labels in test_loader:\n",
    "\n",
    "    h = tuple([each.data for each in h])\n",
    "    output, h = net(inputs, h)\n",
    "\n",
    "    loss = criterion(output.squeeze(), labels.long())\n",
    "    test_loss += loss.item()\n",
    "    p = F.log_softmax(output, dim=1)\n",
    "    _, pred = torch.max(p, 1)    \n",
    "    correct_tensor = pred.eq(labels.data.view_as(pred))\n",
    "    correct = np.squeeze(correct_tensor.numpy()) \n",
    "    for i in range(len(labels)):\n",
    "\n",
    "        label = labels.data[i]\n",
    "    \n",
    "        class_correct[label] += correct[i].item()\n",
    "        class_total[label] += 1\n",
    "\n",
    "# average test loss\n",
    "test_losses = test_loss/len(test_loader.dataset)\n",
    "print('Test Loss: {:.6f}\\n'.format(test_loss))\n",
    "\n",
    "for i in range(5):\n",
    "    if class_total[i] > 0:\n",
    "        print('Test Accuracy of %5s: %2d%% (%2d/%2d)' % (\n",
    "            classes[i], 100 * class_correct[i] / class_total[i],\n",
    "            np.sum(class_correct[i]), np.sum(class_total[i])))\n",
    "    else:\n",
    "        print('Test Accuracy of %5s: N/A (no training examples)' % (classes[i]))\n",
    "\n",
    "print('\\nTest Accuracy (Overall): %2d%% (%2d/%2d)' % (\n",
    "    100. * np.sum(class_correct) / np.sum(class_total),\n",
    "    np.sum(class_correct), np.sum(class_total)))\n",
    "# -- stats! -- ##\n",
    "# avg test loss\n",
    "print(\"Test loss: {:.3f}\".format(np.mean(test_losses)))\n",
    "\n"
   ]
  },
  {
   "cell_type": "markdown",
   "id": "07c691fe",
   "metadata": {},
   "source": [
    "During the testing phase, I used the data unseen by the network, I followed the same steps as in the validation process, although this time I calculated how many correct answers does my model get for each class. The results are pleasing seen as the overall accuracy is 95% (it's 100% for some classes), and the mean loss is as low as 0.008."
   ]
  },
  {
   "cell_type": "markdown",
   "id": "6218b7c6",
   "metadata": {},
   "source": [
    "### Inference"
   ]
  },
  {
   "cell_type": "code",
   "execution_count": 366,
   "id": "884c590f",
   "metadata": {},
   "outputs": [
    {
     "name": "stdout",
     "output_type": "stream",
     "text": [
      "Net output  tensor([3, 3, 3, 0])\n",
      "Actual label  tensor([3, 3, 3, 0], dtype=torch.int32)\n"
     ]
    }
   ],
   "source": [
    "net.eval()\n",
    "x, y = next(iter(test_loader))\n",
    "x = x[:4]\n",
    "y = y[:4]\n",
    "h = net.init_hidden()\n",
    "h = tuple([each.data for each in h])\n",
    "output, h = net(x, h)\n",
    "p = F.log_softmax(output, dim=1)\n",
    "_, pred = torch.max(p, 1)\n",
    "print(\"Net output \", pred)\n",
    "print(\"Actual label \", y)"
   ]
  },
  {
   "cell_type": "markdown",
   "id": "4be35640",
   "metadata": {},
   "source": [
    "I used the testing dataset to do some inference, I simply made predictions on a couple of news feeds and compared the results of the network with the actual labels and they match !"
   ]
  },
  {
   "cell_type": "markdown",
   "id": "d8afef8b",
   "metadata": {},
   "source": [
    "## Conclusion\n",
    "\n",
    "In this notebook I had the opportunity to work with supervised learning to classify news feeds into five categories. I first did a couple of pre-processing techniques on the raw text data, then I built a stacked LSTM and trainined it to recognize the kind of news fed to it. The results I got were great (an overall accuracy of 95%) and a very low error."
   ]
  }
 ],
 "metadata": {
  "kernelspec": {
   "display_name": "Python 3 (ipykernel)",
   "language": "python",
   "name": "python3"
  },
  "language_info": {
   "codemirror_mode": {
    "name": "ipython",
    "version": 3
   },
   "file_extension": ".py",
   "mimetype": "text/x-python",
   "name": "python",
   "nbconvert_exporter": "python",
   "pygments_lexer": "ipython3",
   "version": "3.10.9"
  }
 },
 "nbformat": 4,
 "nbformat_minor": 5
}
